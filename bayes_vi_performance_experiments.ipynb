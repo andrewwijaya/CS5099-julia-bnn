{
 "cells": [
  {
   "cell_type": "markdown",
   "id": "18b0a230",
   "metadata": {},
   "source": [
    "# Variational Inference Performance Experiments"
   ]
  },
  {
   "cell_type": "code",
   "execution_count": 1,
   "id": "740595ec",
   "metadata": {},
   "outputs": [
    {
     "name": "stderr",
     "output_type": "stream",
     "text": [
      "┌ Info: OMEinsum loaded the CUDA module successfully\n",
      "└ @ OMEinsum C:\\Users\\andre\\.julia\\packages\\OMEinsum\\0C2IK\\src\\cueinsum.jl:117\n"
     ]
    }
   ],
   "source": [
    "begin\n",
    "    include(\"./BayesVI.jl\")\n",
    "    using .BayesVI\n",
    "    include(\"./Datasets.jl\")\n",
    "    using .Datasets\n",
    "end"
   ]
  },
  {
   "cell_type": "code",
   "execution_count": 2,
   "id": "b94dc4c8",
   "metadata": {},
   "outputs": [
    {
     "ename": "LoadError",
     "evalue": "syntax: extra token \"MC\" after end of expression",
     "output_type": "error",
     "traceback": [
      "syntax: extra token \"MC\" after end of expression",
      "",
      "Stacktrace:",
      " [1] top-level scope",
      "   @ In[2]:1",
      " [2] eval",
      "   @ .\\boot.jl:373 [inlined]",
      " [3] include_string(mapexpr::typeof(REPL.softscope), mod::Module, code::String, filename::String)",
      "   @ Base .\\loading.jl:1196"
     ]
    }
   ],
   "source": [
    "#Benchmark MC Samples\n",
    "trials = 50\n",
    "times = zeros(trials)\n",
    "for mc_samples in range(1, trials)\n",
    "    num_weights, predictions, logprob, ensemble_prediction = make_neural_network_functions([1, 20, 20, 1], 0.1, 0.01, rbf)\n",
    "    inputs, targets = build_dataset_1()\n",
    "    log_posterior(weights) = logprob(weights, inputs, targets)\n",
    "    objective, unpack_params = black_box_variational_inference(log_posterior, num_weights, mc_samples)\n",
    "    e = @elapsed train_bayesian_neural_network(200, 0.1, num_weights, objective);\n",
    "    times[mc_samples] = e\n",
    "end"
   ]
  },
  {
   "cell_type": "code",
   "execution_count": 3,
   "id": "34c66b78",
   "metadata": {},
   "outputs": [
    {
     "ename": "LoadError",
     "evalue": "UndefVarError: times not defined",
     "output_type": "error",
     "traceback": [
      "UndefVarError: times not defined",
      "",
      "Stacktrace:",
      " [1] top-level scope",
      "   @ :0",
      " [2] eval",
      "   @ .\\boot.jl:373 [inlined]",
      " [3] include_string(mapexpr::typeof(REPL.softscope), mod::Module, code::String, filename::String)",
      "   @ Base .\\loading.jl:1196"
     ]
    }
   ],
   "source": [
    "times;"
   ]
  },
  {
   "cell_type": "code",
   "execution_count": 4,
   "id": "b97fdc24",
   "metadata": {},
   "outputs": [
    {
     "ename": "LoadError",
     "evalue": "UndefVarError: trials not defined",
     "output_type": "error",
     "traceback": [
      "UndefVarError: trials not defined",
      "",
      "Stacktrace:",
      " [1] top-level scope",
      "   @ In[4]:1",
      " [2] eval",
      "   @ .\\boot.jl:373 [inlined]",
      " [3] include_string(mapexpr::typeof(REPL.softscope), mod::Module, code::String, filename::String)",
      "   @ Base .\\loading.jl:1196"
     ]
    }
   ],
   "source": [
    "mcvtime = plot(LinRange(1,trials,trials), times, title=\"MC Samples vs Training Time (s)\", label=\"\", xlabel=\"MC Samples\", ylabel=\"Train Time (s)\")\n",
    "savefig(mcvtime, \"images/mcvtime.png\")"
   ]
  },
  {
   "cell_type": "code",
   "execution_count": 5,
   "id": "25c45f1f",
   "metadata": {},
   "outputs": [
    {
     "ename": "LoadError",
     "evalue": "syntax: extra token \"epochs\" after end of expression",
     "output_type": "error",
     "traceback": [
      "syntax: extra token \"epochs\" after end of expression",
      "",
      "Stacktrace:",
      " [1] top-level scope",
      "   @ In[5]:1",
      " [2] eval",
      "   @ .\\boot.jl:373 [inlined]",
      " [3] include_string(mapexpr::typeof(REPL.softscope), mod::Module, code::String, filename::String)",
      "   @ Base .\\loading.jl:1196"
     ]
    }
   ],
   "source": [
    "#Benchmark epochs\n",
    "trials = 100\n",
    "repeats = 10\n",
    "times = zeros(trials, repeats)\n",
    "for rep in range(1, repeats)\n",
    "    for epochs in range(1, trials)\n",
    "        num_weights, predictions, logprob, ensemble_prediction = make_neural_network_functions([1, 20, 20, 1], 0.1, 0.01, rbf)\n",
    "        inputs, targets = build_dataset_1()\n",
    "        log_posterior(weights) = logprob(weights, inputs, targets)\n",
    "        objective, unpack_params = black_box_variational_inference(log_posterior, num_weights, 1)\n",
    "        e = @elapsed train_bayesian_neural_network(epochs, 0.1, num_weights, objective);\n",
    "        times[epochs, rep] = e\n",
    "    end\n",
    "end"
   ]
  },
  {
   "cell_type": "code",
   "execution_count": 6,
   "id": "bfb6790e",
   "metadata": {},
   "outputs": [
    {
     "ename": "LoadError",
     "evalue": "UndefVarError: mean not defined",
     "output_type": "error",
     "traceback": [
      "UndefVarError: mean not defined",
      "",
      "Stacktrace:",
      " [1] top-level scope",
      "   @ In[6]:1",
      " [2] eval",
      "   @ .\\boot.jl:373 [inlined]",
      " [3] include_string(mapexpr::typeof(REPL.softscope), mod::Module, code::String, filename::String)",
      "   @ Base .\\loading.jl:1196"
     ]
    }
   ],
   "source": [
    "averaged_times = mean(times, dims=2);"
   ]
  },
  {
   "cell_type": "code",
   "execution_count": 7,
   "id": "64038273",
   "metadata": {},
   "outputs": [
    {
     "ename": "LoadError",
     "evalue": "UndefVarError: trials not defined",
     "output_type": "error",
     "traceback": [
      "UndefVarError: trials not defined",
      "",
      "Stacktrace:",
      " [1] top-level scope",
      "   @ In[7]:1",
      " [2] eval",
      "   @ .\\boot.jl:373 [inlined]",
      " [3] include_string(mapexpr::typeof(REPL.softscope), mod::Module, code::String, filename::String)",
      "   @ Base .\\loading.jl:1196"
     ]
    }
   ],
   "source": [
    "epochs_vs_avg_time = plot(LinRange(1,trials,trials), averaged_times, title=\"Epochs vs Training Time (s)\", label=\"\", xlabel=\"Number of Epochs\", ylabel=\"Train Time (s)\")\n",
    "savefig(epochs_vs_avg_time, \"images/epochs_vs_avg_time.png\")"
   ]
  },
  {
   "cell_type": "code",
   "execution_count": 8,
   "id": "c8ff7ad9",
   "metadata": {},
   "outputs": [
    {
     "ename": "LoadError",
     "evalue": "UndefVarError: current not defined",
     "output_type": "error",
     "traceback": [
      "UndefVarError: current not defined",
      "",
      "Stacktrace:",
      " [1] top-level scope",
      "   @ In[8]:1",
      " [2] eval",
      "   @ .\\boot.jl:373 [inlined]",
      " [3] include_string(mapexpr::typeof(REPL.softscope), mod::Module, code::String, filename::String)",
      "   @ Base .\\loading.jl:1196"
     ]
    }
   ],
   "source": [
    "current()"
   ]
  },
  {
   "cell_type": "code",
   "execution_count": 9,
   "id": "3c0a20a9",
   "metadata": {},
   "outputs": [
    {
     "ename": "LoadError",
     "evalue": "syntax: extra token \"number\" after end of expression",
     "output_type": "error",
     "traceback": [
      "syntax: extra token \"number\" after end of expression",
      "",
      "Stacktrace:",
      " [1] top-level scope",
      "   @ In[9]:1",
      " [2] eval",
      "   @ .\\boot.jl:373 [inlined]",
      " [3] include_string(mapexpr::typeof(REPL.softscope), mod::Module, code::String, filename::String)",
      "   @ Base .\\loading.jl:1196"
     ]
    }
   ],
   "source": [
    "#Benchmark number of nodes\n",
    "trials = 30\n",
    "repeats = 10\n",
    "times = zeros(trials, repeats)\n",
    "for i in range(1, repeats)\n",
    "    for val in range(1, trials)\n",
    "        num_weights, predictions, logprob, ensemble_prediction = make_neural_network_functions([1, val, val, 1], 0.1, 0.01, rbf)\n",
    "        inputs, targets = build_dataset_1()\n",
    "        log_posterior(weights) = logprob(weights, inputs, targets)\n",
    "        objective, unpack_params = black_box_variational_inference(log_posterior, num_weights, 1)\n",
    "        e = @elapsed train_bayesian_neural_network(200, 0.1, num_weights, objective);\n",
    "        times[val, i] = e\n",
    "    end\n",
    "end"
   ]
  },
  {
   "cell_type": "code",
   "execution_count": 10,
   "id": "174d4fe1",
   "metadata": {},
   "outputs": [
    {
     "ename": "LoadError",
     "evalue": "UndefVarError: mean not defined",
     "output_type": "error",
     "traceback": [
      "UndefVarError: mean not defined",
      "",
      "Stacktrace:",
      " [1] top-level scope",
      "   @ In[10]:1",
      " [2] eval",
      "   @ .\\boot.jl:373 [inlined]",
      " [3] include_string(mapexpr::typeof(REPL.softscope), mod::Module, code::String, filename::String)",
      "   @ Base .\\loading.jl:1196"
     ]
    }
   ],
   "source": [
    "averaged_times = mean(times, dims=2);"
   ]
  },
  {
   "cell_type": "code",
   "execution_count": 11,
   "id": "094395c4",
   "metadata": {},
   "outputs": [
    {
     "ename": "LoadError",
     "evalue": "UndefVarError: trials not defined",
     "output_type": "error",
     "traceback": [
      "UndefVarError: trials not defined",
      "",
      "Stacktrace:",
      " [1] top-level scope",
      "   @ In[11]:1",
      " [2] eval",
      "   @ .\\boot.jl:373 [inlined]",
      " [3] include_string(mapexpr::typeof(REPL.softscope), mod::Module, code::String, filename::String)",
      "   @ Base .\\loading.jl:1196"
     ]
    }
   ],
   "source": [
    "num_nodes_vs_train_time = plot(LinRange(1,trials,trials), averaged_times, title=\"Number of Nodes vs Training Time (s)\", label=\"\", xlabel=\"Number of Nodes\", ylabel=\"Train Time (s)\")"
   ]
  },
  {
   "cell_type": "code",
   "execution_count": 12,
   "id": "012f9e45",
   "metadata": {},
   "outputs": [
    {
     "ename": "LoadError",
     "evalue": "UndefVarError: savefig not defined",
     "output_type": "error",
     "traceback": [
      "UndefVarError: savefig not defined",
      "",
      "Stacktrace:",
      " [1] top-level scope",
      "   @ In[12]:1",
      " [2] eval",
      "   @ .\\boot.jl:373 [inlined]",
      " [3] include_string(mapexpr::typeof(REPL.softscope), mod::Module, code::String, filename::String)",
      "   @ Base .\\loading.jl:1196"
     ]
    }
   ],
   "source": [
    "savefig(num_nodes_vs_train_time, \"images/num_nodes_vs_train_time.png\")"
   ]
  },
  {
   "cell_type": "code",
   "execution_count": 13,
   "id": "8c5738d2",
   "metadata": {},
   "outputs": [
    {
     "ename": "LoadError",
     "evalue": "syntax: extra token \"depth\" after end of expression",
     "output_type": "error",
     "traceback": [
      "syntax: extra token \"depth\" after end of expression",
      "",
      "Stacktrace:",
      " [1] top-level scope",
      "   @ In[13]:1",
      " [2] eval",
      "   @ .\\boot.jl:373 [inlined]",
      " [3] include_string(mapexpr::typeof(REPL.softscope), mod::Module, code::String, filename::String)",
      "   @ Base .\\loading.jl:1196"
     ]
    }
   ],
   "source": [
    "#Benchmark depth of neural network\n",
    "depth = 50\n",
    "repeats = 10\n",
    "times = zeros(depth, repeats)\n",
    "for i in range(1, repeats)\n",
    "    for val in range(1, depth)\n",
    "        architecture = convert(Array{Int64}, vcat(1, ones(val) .* 20, 1))\n",
    "        num_weights, predictions, logprob, ensemble_prediction = make_neural_network_functions(architecture, 0.1, 0.01, rbf)\n",
    "        inputs, targets = build_dataset_1()\n",
    "        log_posterior(weights) = logprob(weights, inputs, targets)\n",
    "        objective, unpack_params = black_box_variational_inference(log_posterior, num_weights, 1)\n",
    "        e = @elapsed train_bayesian_neural_network(200, 0.1, num_weights, objective);\n",
    "        times[val, i] = e\n",
    "    end\n",
    "end"
   ]
  },
  {
   "cell_type": "code",
   "execution_count": 14,
   "id": "fcf107be",
   "metadata": {},
   "outputs": [
    {
     "ename": "LoadError",
     "evalue": "UndefVarError: mean not defined",
     "output_type": "error",
     "traceback": [
      "UndefVarError: mean not defined",
      "",
      "Stacktrace:",
      " [1] top-level scope",
      "   @ In[14]:1",
      " [2] eval",
      "   @ .\\boot.jl:373 [inlined]",
      " [3] include_string(mapexpr::typeof(REPL.softscope), mod::Module, code::String, filename::String)",
      "   @ Base .\\loading.jl:1196"
     ]
    }
   ],
   "source": [
    "averaged_times = mean(times, dims=2);"
   ]
  },
  {
   "cell_type": "code",
   "execution_count": 15,
   "id": "e31273d8",
   "metadata": {},
   "outputs": [
    {
     "ename": "LoadError",
     "evalue": "UndefVarError: depth not defined",
     "output_type": "error",
     "traceback": [
      "UndefVarError: depth not defined",
      "",
      "Stacktrace:",
      " [1] top-level scope",
      "   @ In[15]:1",
      " [2] eval",
      "   @ .\\boot.jl:373 [inlined]",
      " [3] include_string(mapexpr::typeof(REPL.softscope), mod::Module, code::String, filename::String)",
      "   @ Base .\\loading.jl:1196"
     ]
    }
   ],
   "source": [
    "architecture_vs_train_time = plot(LinRange(1,depth,depth), averaged_times, title=\"Network Depth vs Training Time (s)\", label=\"\", xlabel=\"Depth of Neural Network\", ylabel=\"Train Time (s)\")"
   ]
  },
  {
   "cell_type": "code",
   "execution_count": 16,
   "id": "5410b957",
   "metadata": {},
   "outputs": [
    {
     "ename": "LoadError",
     "evalue": "UndefVarError: savefig not defined",
     "output_type": "error",
     "traceback": [
      "UndefVarError: savefig not defined",
      "",
      "Stacktrace:",
      " [1] top-level scope",
      "   @ In[16]:1",
      " [2] eval",
      "   @ .\\boot.jl:373 [inlined]",
      " [3] include_string(mapexpr::typeof(REPL.softscope), mod::Module, code::String, filename::String)",
      "   @ Base .\\loading.jl:1196"
     ]
    }
   ],
   "source": [
    "savefig(architecture_vs_train_time, \"images/architecture_vs_train_time.png\")"
   ]
  },
  {
   "cell_type": "code",
   "execution_count": 17,
   "id": "54b15079",
   "metadata": {},
   "outputs": [
    {
     "ename": "LoadError",
     "evalue": "syntax: extra token \"MC_samples\" after end of expression",
     "output_type": "error",
     "traceback": [
      "syntax: extra token \"MC_samples\" after end of expression",
      "",
      "Stacktrace:",
      " [1] top-level scope",
      "   @ In[17]:1",
      " [2] eval",
      "   @ .\\boot.jl:373 [inlined]",
      " [3] include_string(mapexpr::typeof(REPL.softscope), mod::Module, code::String, filename::String)",
      "   @ Base .\\loading.jl:1196"
     ]
    }
   ],
   "source": [
    "#Benchmark MC_samples vs ELBO\n",
    "Random.seed!(100)\n",
    "mc_samples = [1,10,20,30,40]\n",
    "times = zeros(depth, repeats)\n",
    "elbos_list = Array{}[]\n",
    "for mc_sample in mc_samples\n",
    "    num_weights, predictions, logprob, ensemble_prediction = make_neural_network_functions([1, 20, 20, 1], 0.1, 0.01, rbf)\n",
    "    inputs, targets = build_dataset_1()\n",
    "    log_posterior(weights) = logprob(weights, inputs, targets)\n",
    "    objective, unpack_params = black_box_variational_inference(log_posterior, num_weights, mc_sample)\n",
    "    _, elbos = train_bayesian_neural_network(200, 0.1, num_weights, objective)\n",
    "    push!(elbos_list, elbos)\n",
    "end"
   ]
  },
  {
   "cell_type": "code",
   "execution_count": 18,
   "id": "bc1b3900",
   "metadata": {},
   "outputs": [
    {
     "ename": "LoadError",
     "evalue": "UndefVarError: mc_samples not defined",
     "output_type": "error",
     "traceback": [
      "UndefVarError: mc_samples not defined",
      "",
      "Stacktrace:",
      " [1] top-level scope",
      "   @ .\\In[18]:2",
      " [2] eval",
      "   @ .\\boot.jl:373 [inlined]",
      " [3] include_string(mapexpr::typeof(REPL.softscope), mod::Module, code::String, filename::String)",
      "   @ Base .\\loading.jl:1196"
     ]
    }
   ],
   "source": [
    "for i in range(1,5)\n",
    "    mc_sample = mc_samples[i]\n",
    "    mc_vs_elbo = plot(elbos_list[i], title=\"Epoch vs ELBO ($mc_sample MC Sample)\", xlabel=\"Epochs\", ylabel=\"ELBO\", label=\"\")\n",
    "    savefig(mc_vs_elbo, \"images/mc_vs_elbo_$mc_sample.png\")\n",
    "end"
   ]
  }
 ],
 "metadata": {
  "kernelspec": {
   "display_name": "Julia 1.7.1",
   "language": "julia",
   "name": "julia-1.7"
  },
  "language_info": {
   "file_extension": ".jl",
   "mimetype": "application/julia",
   "name": "julia",
   "version": "1.7.1"
  }
 },
 "nbformat": 4,
 "nbformat_minor": 5
}
